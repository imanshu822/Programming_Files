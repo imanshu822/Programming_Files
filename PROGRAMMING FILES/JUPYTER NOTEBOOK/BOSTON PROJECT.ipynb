{
 "cells": [
  {
   "cell_type": "code",
   "execution_count": null,
   "id": "ac060b16",
   "metadata": {},
   "outputs": [],
   "source": [
    "!pip install pycaret &> /dev/null\n",
    "print (\"Pycaret installed sucessfully!!\")"
   ]
  },
  {
   "cell_type": "code",
   "execution_count": null,
   "id": "0c19c3ab",
   "metadata": {
    "scrolled": false
   },
   "outputs": [],
   "source": [
    "from pycaret.utils import version\n",
    "version()"
   ]
  },
  {
   "cell_type": "code",
   "execution_count": null,
   "id": "4a4d95c1",
   "metadata": {},
   "outputs": [],
   "source": [
    "from pycaret.datasets import get_data"
   ]
  },
  {
   "cell_type": "code",
   "execution_count": null,
   "id": "9b1934bd",
   "metadata": {},
   "outputs": [],
   "source": [
    "dataSets = get_data('index')"
   ]
  },
  {
   "cell_type": "code",
   "execution_count": null,
   "id": "72e67547",
   "metadata": {},
   "outputs": [],
   "source": [
    "bostonDataSet = get_data(\"boston\")"
   ]
  },
  {
   "cell_type": "code",
   "execution_count": null,
   "id": "171839d8",
   "metadata": {},
   "outputs": [],
   "source": [
    "from pycaret.regression import *\n",
    "s = setup(data =  bostonDataSet, target='medv', silent=True)"
   ]
  },
  {
   "cell_type": "code",
   "execution_count": null,
   "id": "16c3aa92",
   "metadata": {},
   "outputs": [],
   "source": [
    "cm = compare_models()"
   ]
  },
  {
   "cell_type": "code",
   "execution_count": null,
   "id": "2c41712f",
   "metadata": {},
   "outputs": [],
   "source": [
    "from pycaret.datasets import get_data\n",
    "from pycaret.regression import *\n",
    "\n",
    "insuranceDataSet = get_data(\"insurance\")\n",
    "s = setup(data = insuranceDataSet, target='charges', silent=True)\n",
    "cm = compare_models()"
   ]
  },
  {
   "cell_type": "code",
   "execution_count": null,
   "id": "8452fb61",
   "metadata": {},
   "outputs": [],
   "source": [
    "from pycaret.datasets import get_data\n",
    "from pycaret.regression import *\n",
    "\n",
    "houseDataSet = get_data(\"house\")\n",
    "s = setup(data = houseDataSet, target='SalePrice', silent=True)\n",
    "cm = compare_models()"
   ]
  },
  {
   "cell_type": "code",
   "execution_count": null,
   "id": "10f54cc4",
   "metadata": {},
   "outputs": [],
   "source": [
    "s = setup(data = bostonDataSet, target = 'medv', normalize = True, normalize_method = 'zscore', silent=True)\n",
    "cm = compare_models()"
   ]
  },
  {
   "cell_type": "code",
   "execution_count": null,
   "id": "75bea696",
   "metadata": {},
   "outputs": [],
   "source": [
    "s = setup(data = bostonDataSet, target = 'medv', feature_selection = True, feature_selection_threshold = 0.9, silent=True)\n",
    "cm = compare_models()"
   ]
  },
  {
   "cell_type": "code",
   "execution_count": null,
   "id": "9adce063",
   "metadata": {},
   "outputs": [],
   "source": [
    "s = setup(data = bostonDataSet, target = 'medv', remove_outliers = True, outliers_threshold = 0.05, silent=True)\n",
    "cm = compare_models()"
   ]
  },
  {
   "cell_type": "code",
   "execution_count": null,
   "id": "f7cfabbc",
   "metadata": {},
   "outputs": [],
   "source": [
    "s = setup(data = bostonDataSet, target = 'medv', pca = True, pca_method = 'linear', silent=True)\n",
    "cm = compare_models()"
   ]
  }
 ],
 "metadata": {
  "kernelspec": {
   "display_name": "Python 3 (ipykernel)",
   "language": "python",
   "name": "python3"
  },
  "language_info": {
   "codemirror_mode": {
    "name": "ipython",
    "version": 3
   },
   "file_extension": ".py",
   "mimetype": "text/x-python",
   "name": "python",
   "nbconvert_exporter": "python",
   "pygments_lexer": "ipython3",
   "version": "3.9.7"
  }
 },
 "nbformat": 4,
 "nbformat_minor": 5
}

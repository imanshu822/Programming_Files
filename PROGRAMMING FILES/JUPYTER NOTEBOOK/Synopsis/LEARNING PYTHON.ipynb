{
 "cells": [
  {
   "cell_type": "code",
   "execution_count": 1,
   "id": "2f6ad757",
   "metadata": {},
   "outputs": [
    {
     "name": "stdout",
     "output_type": "stream",
     "text": [
      "hello world \n"
     ]
    }
   ],
   "source": [
    "print(\"hello world \")"
   ]
  },
  {
   "cell_type": "code",
   "execution_count": 2,
   "id": "499dfe64",
   "metadata": {},
   "outputs": [
    {
     "name": "stdout",
     "output_type": "stream",
     "text": [
      "hello world\n"
     ]
    }
   ],
   "source": [
    "print('hello world')"
   ]
  },
  {
   "cell_type": "code",
   "execution_count": 3,
   "id": "d1eec371",
   "metadata": {},
   "outputs": [
    {
     "name": "stdout",
     "output_type": "stream",
     "text": [
      "<class 'int'>\n"
     ]
    }
   ],
   "source": [
    "a=5\n",
    "print(type(a))"
   ]
  },
  {
   "cell_type": "code",
   "execution_count": 4,
   "id": "136cf060",
   "metadata": {},
   "outputs": [
    {
     "name": "stdout",
     "output_type": "stream",
     "text": [
      "2\n",
      "0.5403023058681398\n",
      "0.8414709848078965\n",
      "0.0\n"
     ]
    }
   ],
   "source": [
    "import math\n",
    "print(math.floor(2.34))\n",
    "print(math.cos(1))\n",
    "print(math.sin(1))\n",
    "print(math.sin(0))\n"
   ]
  },
  {
   "cell_type": "code",
   "execution_count": 5,
   "id": "e691d456",
   "metadata": {},
   "outputs": [
    {
     "name": "stdout",
     "output_type": "stream",
     "text": [
      "7\n",
      "1\n",
      "This is me\n"
     ]
    }
   ],
   "source": [
    "a=4\n",
    "b=3\n",
    "c= \"This is me\"\n",
    "print(a+b)\n",
    "print(a%b)\n",
    "print(c)"
   ]
  },
  {
   "cell_type": "code",
   "execution_count": 6,
   "id": "570d85f6",
   "metadata": {},
   "outputs": [
    {
     "name": "stdout",
     "output_type": "stream",
     "text": [
      "12\n"
     ]
    }
   ],
   "source": [
    "a='1'\n",
    "b='2'\n",
    "print(a+b)"
   ]
  },
  {
   "cell_type": "code",
   "execution_count": 7,
   "id": "05865018",
   "metadata": {},
   "outputs": [
    {
     "name": "stdout",
     "output_type": "stream",
     "text": [
      "THIS IS MY FIRST PYTHON PROGRAM\n",
      "0\n",
      "This is my first python program\n",
      "this is my first python program\n"
     ]
    }
   ],
   "source": [
    "str1= \"this is my first python program\"\n",
    "print(str1.upper())\n",
    "print(str1.find(\"this\"))\n",
    "print(str1.capitalize())\n",
    "print(str1.lower())"
   ]
  },
  {
   "cell_type": "code",
   "execution_count": 8,
   "id": "187b0201",
   "metadata": {},
   "outputs": [
    {
     "name": "stdout",
     "output_type": "stream",
     "text": [
      "[1, 2, 3, 4, 5]\n",
      "<class 'list'>\n",
      "['yameha', 2, 4, 'addidas']\n",
      "<class 'list'>\n"
     ]
    }
   ],
   "source": [
    "## LIST \n",
    "cars_no = [1,2,3,4,5]\n",
    "print(cars_no)\n",
    "print(type(cars_no))\n",
    "product = [\"yameha\",2,4, \"addidas\"]\n",
    "print(product)\n",
    "print(type(product))"
   ]
  },
  {
   "cell_type": "code",
   "execution_count": 9,
   "id": "99e28463",
   "metadata": {},
   "outputs": [
    {
     "name": "stdout",
     "output_type": "stream",
     "text": [
      "[1, 2, 3, 4, 5, 6, 7, 8, 9, 10, 'a', 'b', 'c']\n",
      "<class 'list'>\n",
      "['yameha', 2, 3, 4, 5, 6, 7, 8, 9, 10, 'a', 'b', 'yameha']\n"
     ]
    }
   ],
   "source": [
    "abc=[1,2,3,4,5,6,7,8,9,10,'a','b',\"c\"]\n",
    "print(abc)\n",
    "print(type(abc))\n",
    "abc[0]='yameha'\n",
    "abc[12]=\"yameha\"\n",
    "print(abc)"
   ]
  },
  {
   "cell_type": "code",
   "execution_count": 10,
   "id": "583c3026",
   "metadata": {},
   "outputs": [
    {
     "name": "stdout",
     "output_type": "stream",
     "text": [
      "(1, 2, 3, 4, 5, 6)\n",
      "<class 'tuple'>\n",
      "(1, 2, 3, 4, 5, 6)\n",
      "<class 'tuple'>\n"
     ]
    }
   ],
   "source": [
    "#use of tuple---> we can't change value of tuple \n",
    "tupe1=(1,2,3,4,5,6)\n",
    "print(tupe1)\n",
    "print(type(tupe1))\n",
    "\n",
    "print(tupe1)\n",
    "print(type(tupe1))"
   ]
  },
  {
   "cell_type": "code",
   "execution_count": 11,
   "id": "db027757",
   "metadata": {},
   "outputs": [
    {
     "name": "stdout",
     "output_type": "stream",
     "text": [
      "{}\n",
      "<class 'dict'>\n",
      "45\n",
      "dict_items([('virat', 50), ('kl rahul', 45), ('pujara', 155), ('rohit', 0)])\n",
      "{'virat', 'pujara', 'kl rahul', 'rohit'}\n"
     ]
    }
   ],
   "source": [
    "dict1={}\n",
    "print (dict1)\n",
    "print(type(dict1))\n",
    "dict1 [\"virat\"] = 50\n",
    "dict1 [\"kl rahul\"]=45\n",
    "dict1 ['pujara']=155\n",
    "dict1 ['rohit']=0\n",
    "print(dict1.get('kl rahul'))\n",
    "print(dict.items(dict1))\n",
    "s1=set(dict1)\n",
    "print(s1)"
   ]
  },
  {
   "cell_type": "code",
   "execution_count": 12,
   "id": "547d9cb3",
   "metadata": {},
   "outputs": [
    {
     "name": "stdout",
     "output_type": "stream",
     "text": [
      "What is your name \n",
      "WHAT IS YOUR NAME \n",
      "what is your name \n"
     ]
    }
   ],
   "source": [
    "s= \"what is your name \"\n",
    "print(s.capitalize())\n",
    "print(s.upper())\n",
    "print(s.lower())"
   ]
  },
  {
   "cell_type": "code",
   "execution_count": 13,
   "id": "b720656e",
   "metadata": {},
   "outputs": [
    {
     "name": "stdout",
     "output_type": "stream",
     "text": [
      "[1, 2, 3, 4, 5, 6]\n",
      "[1, 'yameha', 3, 55, 5, 6]\n",
      "[1, 'yameha', 3]\n",
      "[1, 'yameha']\n",
      "<class 'list'>\n"
     ]
    }
   ],
   "source": [
    "cars = [1,2,3,4,5,6]\n",
    "print(cars)\n",
    "cars[3]=55\n",
    "cars[1]=\"yameha\"\n",
    "print(cars)\n",
    "print(cars[0:3])\n",
    "print(cars[0:2])\n",
    "print(type(cars))"
   ]
  },
  {
   "cell_type": "code",
   "execution_count": 14,
   "id": "cd158d49",
   "metadata": {},
   "outputs": [
    {
     "name": "stdout",
     "output_type": "stream",
     "text": [
      "<class 'tuple'>\n"
     ]
    }
   ],
   "source": [
    "cars=(1,2,3,4,5)\n",
    "print(type(cars))\n"
   ]
  },
  {
   "cell_type": "code",
   "execution_count": 15,
   "id": "98303ad2",
   "metadata": {},
   "outputs": [
    {
     "name": "stdout",
     "output_type": "stream",
     "text": [
      "[2, 23, 23, 24, 32, 55, 890, 989]\n",
      "[989, 890, 55, 32, 24, 23, 23, 2]\n"
     ]
    }
   ],
   "source": [
    "marks = [2,32,24,23,55,890,23,989]\n",
    "marks.sort()\n",
    "print(marks)\n",
    "marks.reverse()\n",
    "print(marks)"
   ]
  },
  {
   "cell_type": "code",
   "execution_count": null,
   "id": "d3b05b92",
   "metadata": {},
   "outputs": [],
   "source": []
  }
 ],
 "metadata": {
  "kernelspec": {
   "display_name": "Python 3 (ipykernel)",
   "language": "python",
   "name": "python3"
  },
  "language_info": {
   "codemirror_mode": {
    "name": "ipython",
    "version": 3
   },
   "file_extension": ".py",
   "mimetype": "text/x-python",
   "name": "python",
   "nbconvert_exporter": "python",
   "pygments_lexer": "ipython3",
   "version": "3.9.7"
  }
 },
 "nbformat": 4,
 "nbformat_minor": 5
}
